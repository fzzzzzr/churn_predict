{
 "cells": [
  {
   "cell_type": "markdown",
   "id": "elect-economics",
   "metadata": {},
   "source": [
    "# Telco Customer Churn Prediction\n",
    "\n",
    "This code uses logistic regression, random forest, XGBoost and neural nets to predict the customer churn rate and compared the performances of these three methods."
   ]
  },
  {
   "cell_type": "code",
   "execution_count": 1,
   "id": "conservative-jacob",
   "metadata": {},
   "outputs": [],
   "source": [
    "import numpy as np\n",
    "import pandas as pd\n",
    "import pyrsm as rsm\n",
    "import matplotlib.pyplot as plt\n",
    "import seaborn as sns\n",
    "import qgrid\n",
    "from math import sqrt\n",
    "import re\n",
    "\n",
    "from sklearn.linear_model import LogisticRegression\n",
    "import statsmodels.formula.api as smf\n",
    "from statsmodels.genmod.families import Binomial\n",
    "from statsmodels.genmod.families.links import logit\n",
    "\n",
    "from sklearn.neural_network import MLPClassifier\n",
    "from sklearn.preprocessing import StandardScaler\n",
    "from sklearn.ensemble import RandomForestClassifier\n",
    "\n",
    "\n",
    "from sklearn.inspection import permutation_importance, plot_partial_dependence\n",
    "from sklearn.model_selection import GridSearchCV, RandomizedSearchCV, train_test_split\n",
    "from sklearn import metrics\n",
    "from sklearn.metrics import roc_auc_score, accuracy_score, confusion_matrix, recall_score, classification_report"
   ]
  },
  {
   "cell_type": "markdown",
   "id": "silver-coral",
   "metadata": {},
   "source": [
    "## Read data and data quality check"
   ]
  },
  {
   "cell_type": "code",
   "execution_count": 2,
   "id": "fossil-melbourne",
   "metadata": {},
   "outputs": [
    {
     "data": {
      "text/html": [
       "<div>\n",
       "<style scoped>\n",
       "    .dataframe tbody tr th:only-of-type {\n",
       "        vertical-align: middle;\n",
       "    }\n",
       "\n",
       "    .dataframe tbody tr th {\n",
       "        vertical-align: top;\n",
       "    }\n",
       "\n",
       "    .dataframe thead th {\n",
       "        text-align: right;\n",
       "    }\n",
       "</style>\n",
       "<table border=\"1\" class=\"dataframe\">\n",
       "  <thead>\n",
       "    <tr style=\"text-align: right;\">\n",
       "      <th></th>\n",
       "      <th>customerID</th>\n",
       "      <th>gender</th>\n",
       "      <th>SeniorCitizen</th>\n",
       "      <th>Partner</th>\n",
       "      <th>Dependents</th>\n",
       "      <th>tenure</th>\n",
       "      <th>PhoneService</th>\n",
       "      <th>MultipleLines</th>\n",
       "      <th>InternetService</th>\n",
       "      <th>OnlineSecurity</th>\n",
       "      <th>...</th>\n",
       "      <th>DeviceProtection</th>\n",
       "      <th>TechSupport</th>\n",
       "      <th>StreamingTV</th>\n",
       "      <th>StreamingMovies</th>\n",
       "      <th>Contract</th>\n",
       "      <th>PaperlessBilling</th>\n",
       "      <th>PaymentMethod</th>\n",
       "      <th>MonthlyCharges</th>\n",
       "      <th>TotalCharges</th>\n",
       "      <th>Churn</th>\n",
       "    </tr>\n",
       "  </thead>\n",
       "  <tbody>\n",
       "    <tr>\n",
       "      <th>0</th>\n",
       "      <td>7590-VHVEG</td>\n",
       "      <td>Female</td>\n",
       "      <td>0</td>\n",
       "      <td>Yes</td>\n",
       "      <td>No</td>\n",
       "      <td>1</td>\n",
       "      <td>No</td>\n",
       "      <td>No phone service</td>\n",
       "      <td>DSL</td>\n",
       "      <td>No</td>\n",
       "      <td>...</td>\n",
       "      <td>No</td>\n",
       "      <td>No</td>\n",
       "      <td>No</td>\n",
       "      <td>No</td>\n",
       "      <td>Month-to-month</td>\n",
       "      <td>Yes</td>\n",
       "      <td>Electronic check</td>\n",
       "      <td>29.85</td>\n",
       "      <td>29.85</td>\n",
       "      <td>No</td>\n",
       "    </tr>\n",
       "    <tr>\n",
       "      <th>1</th>\n",
       "      <td>5575-GNVDE</td>\n",
       "      <td>Male</td>\n",
       "      <td>0</td>\n",
       "      <td>No</td>\n",
       "      <td>No</td>\n",
       "      <td>34</td>\n",
       "      <td>Yes</td>\n",
       "      <td>No</td>\n",
       "      <td>DSL</td>\n",
       "      <td>Yes</td>\n",
       "      <td>...</td>\n",
       "      <td>Yes</td>\n",
       "      <td>No</td>\n",
       "      <td>No</td>\n",
       "      <td>No</td>\n",
       "      <td>One year</td>\n",
       "      <td>No</td>\n",
       "      <td>Mailed check</td>\n",
       "      <td>56.95</td>\n",
       "      <td>1889.5</td>\n",
       "      <td>No</td>\n",
       "    </tr>\n",
       "    <tr>\n",
       "      <th>2</th>\n",
       "      <td>3668-QPYBK</td>\n",
       "      <td>Male</td>\n",
       "      <td>0</td>\n",
       "      <td>No</td>\n",
       "      <td>No</td>\n",
       "      <td>2</td>\n",
       "      <td>Yes</td>\n",
       "      <td>No</td>\n",
       "      <td>DSL</td>\n",
       "      <td>Yes</td>\n",
       "      <td>...</td>\n",
       "      <td>No</td>\n",
       "      <td>No</td>\n",
       "      <td>No</td>\n",
       "      <td>No</td>\n",
       "      <td>Month-to-month</td>\n",
       "      <td>Yes</td>\n",
       "      <td>Mailed check</td>\n",
       "      <td>53.85</td>\n",
       "      <td>108.15</td>\n",
       "      <td>Yes</td>\n",
       "    </tr>\n",
       "    <tr>\n",
       "      <th>3</th>\n",
       "      <td>7795-CFOCW</td>\n",
       "      <td>Male</td>\n",
       "      <td>0</td>\n",
       "      <td>No</td>\n",
       "      <td>No</td>\n",
       "      <td>45</td>\n",
       "      <td>No</td>\n",
       "      <td>No phone service</td>\n",
       "      <td>DSL</td>\n",
       "      <td>Yes</td>\n",
       "      <td>...</td>\n",
       "      <td>Yes</td>\n",
       "      <td>Yes</td>\n",
       "      <td>No</td>\n",
       "      <td>No</td>\n",
       "      <td>One year</td>\n",
       "      <td>No</td>\n",
       "      <td>Bank transfer (automatic)</td>\n",
       "      <td>42.30</td>\n",
       "      <td>1840.75</td>\n",
       "      <td>No</td>\n",
       "    </tr>\n",
       "    <tr>\n",
       "      <th>4</th>\n",
       "      <td>9237-HQITU</td>\n",
       "      <td>Female</td>\n",
       "      <td>0</td>\n",
       "      <td>No</td>\n",
       "      <td>No</td>\n",
       "      <td>2</td>\n",
       "      <td>Yes</td>\n",
       "      <td>No</td>\n",
       "      <td>Fiber optic</td>\n",
       "      <td>No</td>\n",
       "      <td>...</td>\n",
       "      <td>No</td>\n",
       "      <td>No</td>\n",
       "      <td>No</td>\n",
       "      <td>No</td>\n",
       "      <td>Month-to-month</td>\n",
       "      <td>Yes</td>\n",
       "      <td>Electronic check</td>\n",
       "      <td>70.70</td>\n",
       "      <td>151.65</td>\n",
       "      <td>Yes</td>\n",
       "    </tr>\n",
       "  </tbody>\n",
       "</table>\n",
       "<p>5 rows × 21 columns</p>\n",
       "</div>"
      ],
      "text/plain": [
       "   customerID  gender  SeniorCitizen Partner Dependents  tenure PhoneService  \\\n",
       "0  7590-VHVEG  Female              0     Yes         No       1           No   \n",
       "1  5575-GNVDE    Male              0      No         No      34          Yes   \n",
       "2  3668-QPYBK    Male              0      No         No       2          Yes   \n",
       "3  7795-CFOCW    Male              0      No         No      45           No   \n",
       "4  9237-HQITU  Female              0      No         No       2          Yes   \n",
       "\n",
       "      MultipleLines InternetService OnlineSecurity  ... DeviceProtection  \\\n",
       "0  No phone service             DSL             No  ...               No   \n",
       "1                No             DSL            Yes  ...              Yes   \n",
       "2                No             DSL            Yes  ...               No   \n",
       "3  No phone service             DSL            Yes  ...              Yes   \n",
       "4                No     Fiber optic             No  ...               No   \n",
       "\n",
       "  TechSupport StreamingTV StreamingMovies        Contract PaperlessBilling  \\\n",
       "0          No          No              No  Month-to-month              Yes   \n",
       "1          No          No              No        One year               No   \n",
       "2          No          No              No  Month-to-month              Yes   \n",
       "3         Yes          No              No        One year               No   \n",
       "4          No          No              No  Month-to-month              Yes   \n",
       "\n",
       "               PaymentMethod MonthlyCharges  TotalCharges Churn  \n",
       "0           Electronic check          29.85         29.85    No  \n",
       "1               Mailed check          56.95        1889.5    No  \n",
       "2               Mailed check          53.85        108.15   Yes  \n",
       "3  Bank transfer (automatic)          42.30       1840.75    No  \n",
       "4           Electronic check          70.70        151.65   Yes  \n",
       "\n",
       "[5 rows x 21 columns]"
      ]
     },
     "execution_count": 2,
     "metadata": {},
     "output_type": "execute_result"
    }
   ],
   "source": [
    "telco = pd.read_csv(\"./data/Telco-Customer-Churn.csv\")\n",
    "telco.head()"
   ]
  },
  {
   "cell_type": "code",
   "execution_count": 3,
   "id": "smoking-symbol",
   "metadata": {},
   "outputs": [
    {
     "name": "stdout",
     "output_type": "stream",
     "text": [
      "<class 'pandas.core.frame.DataFrame'>\n",
      "RangeIndex: 7043 entries, 0 to 7042\n",
      "Data columns (total 21 columns):\n",
      " #   Column            Non-Null Count  Dtype  \n",
      "---  ------            --------------  -----  \n",
      " 0   customerID        7043 non-null   object \n",
      " 1   gender            7043 non-null   object \n",
      " 2   SeniorCitizen     7043 non-null   int64  \n",
      " 3   Partner           7043 non-null   object \n",
      " 4   Dependents        7043 non-null   object \n",
      " 5   tenure            7043 non-null   int64  \n",
      " 6   PhoneService      7043 non-null   object \n",
      " 7   MultipleLines     7043 non-null   object \n",
      " 8   InternetService   7043 non-null   object \n",
      " 9   OnlineSecurity    7043 non-null   object \n",
      " 10  OnlineBackup      7043 non-null   object \n",
      " 11  DeviceProtection  7043 non-null   object \n",
      " 12  TechSupport       7043 non-null   object \n",
      " 13  StreamingTV       7043 non-null   object \n",
      " 14  StreamingMovies   7043 non-null   object \n",
      " 15  Contract          7043 non-null   object \n",
      " 16  PaperlessBilling  7043 non-null   object \n",
      " 17  PaymentMethod     7043 non-null   object \n",
      " 18  MonthlyCharges    7043 non-null   float64\n",
      " 19  TotalCharges      7043 non-null   object \n",
      " 20  Churn             7043 non-null   object \n",
      "dtypes: float64(1), int64(2), object(18)\n",
      "memory usage: 1.1+ MB\n"
     ]
    }
   ],
   "source": [
    "telco.info()"
   ]
  },
  {
   "cell_type": "code",
   "execution_count": 4,
   "id": "provincial-murder",
   "metadata": {},
   "outputs": [
    {
     "data": {
      "text/plain": [
       "0"
      ]
     },
     "execution_count": 4,
     "metadata": {},
     "output_type": "execute_result"
    }
   ],
   "source": [
    "telco.duplicated().sum()"
   ]
  },
  {
   "cell_type": "markdown",
   "id": "normal-harrison",
   "metadata": {},
   "source": [
    "## Feature engineering"
   ]
  },
  {
   "cell_type": "code",
   "execution_count": 5,
   "id": "afraid-artwork",
   "metadata": {},
   "outputs": [],
   "source": [
    "telco['TotalCharges'] = telco['TotalCharges'].replace(' ', 'NaN')\n",
    "telco['TotalCharges'] = telco['TotalCharges'].astype(float)\n",
    "mean_totalcharges = np.nanmean(telco['TotalCharges'])\n",
    "telco['TotalCharges'] = telco['TotalCharges'].fillna(mean_totalcharges)"
   ]
  },
  {
   "cell_type": "code",
   "execution_count": 6,
   "id": "endangered-cloud",
   "metadata": {},
   "outputs": [
    {
     "name": "stdout",
     "output_type": "stream",
     "text": [
      "<class 'pandas.core.frame.DataFrame'>\n",
      "RangeIndex: 7043 entries, 0 to 7042\n",
      "Data columns (total 25 columns):\n",
      " #   Column                      Non-Null Count  Dtype  \n",
      "---  ------                      --------------  -----  \n",
      " 0   customerID                  7043 non-null   object \n",
      " 1   SeniorCitizen               7043 non-null   int64  \n",
      " 2   tenure                      7043 non-null   int64  \n",
      " 3   MonthlyCharges              7043 non-null   float64\n",
      " 4   TotalCharges                7043 non-null   float64\n",
      " 5   gender_Male                 7043 non-null   uint8  \n",
      " 6   Partner_Yes                 7043 non-null   uint8  \n",
      " 7   Dependents_Yes              7043 non-null   uint8  \n",
      " 8   PhoneService_Yes            7043 non-null   uint8  \n",
      " 9   MultipleLines_Yes           7043 non-null   uint8  \n",
      " 10  InternetService_FiberOptic  7043 non-null   uint8  \n",
      " 11  InternetService_No          7043 non-null   uint8  \n",
      " 12  OnlineSecurity_Yes          7043 non-null   uint8  \n",
      " 13  OnlineBackup_Yes            7043 non-null   uint8  \n",
      " 14  DeviceProtection_Yes        7043 non-null   uint8  \n",
      " 15  TechSupport_Yes             7043 non-null   uint8  \n",
      " 16  StreamingTV_Yes             7043 non-null   uint8  \n",
      " 17  StreamingMovies_Yes         7043 non-null   uint8  \n",
      " 18  Contract_OneYear            7043 non-null   uint8  \n",
      " 19  Contract_TwoYear            7043 non-null   uint8  \n",
      " 20  PaperlessBilling_Yes        7043 non-null   uint8  \n",
      " 21  CreditCard                  7043 non-null   uint8  \n",
      " 22  ElectronicCheck             7043 non-null   uint8  \n",
      " 23  MailedCheck                 7043 non-null   uint8  \n",
      " 24  Churn_Yes                   7043 non-null   uint8  \n",
      "dtypes: float64(2), int64(2), object(1), uint8(20)\n",
      "memory usage: 412.8+ KB\n"
     ]
    }
   ],
   "source": [
    "telco['SeniorCitizen'] = telco['SeniorCitizen'].astype(int)\n",
    "\n",
    "is_cat = ['gender', \n",
    "          'Partner', \n",
    "          'Dependents',\n",
    "          'PhoneService', \n",
    "          'MultipleLines', \n",
    "          'InternetService',\n",
    "          'OnlineSecurity', \n",
    "          'OnlineBackup', \n",
    "          'DeviceProtection', \n",
    "          'TechSupport',\n",
    "          'StreamingTV', \n",
    "          'StreamingMovies', \n",
    "          'Contract', \n",
    "          'PaperlessBilling',\n",
    "          'PaymentMethod',\n",
    "          'Churn']\n",
    "\n",
    "dummies = pd.get_dummies(telco[is_cat], drop_first = True)\n",
    "\n",
    "dummies = dummies.drop(['MultipleLines_No phone service', \n",
    "                        'OnlineSecurity_No internet service', \n",
    "                        'OnlineBackup_No internet service',\n",
    "                        'DeviceProtection_No internet service',\n",
    "                        'TechSupport_No internet service',\n",
    "                        'StreamingTV_No internet service',\n",
    "                        'StreamingMovies_No internet service'], axis=1)  \n",
    "\n",
    "dummies = dummies.rename(columns={'InternetService_Fiber optic': 'InternetService_FiberOptic',\n",
    "                                 'Contract_One year': 'Contract_OneYear',\n",
    "                                 'Contract_Two year': 'Contract_TwoYear',\n",
    "                                 'PaymentMethod_Credit card (automatic)': 'CreditCard',\n",
    "                                 'PaymentMethod_Electronic check': 'ElectronicCheck',\n",
    "                                 'PaymentMethod_Mailed check': 'MailedCheck'})\n",
    "\n",
    "telco_num = telco[['customerID', 'SeniorCitizen', 'tenure', 'MonthlyCharges', 'TotalCharges']]\n",
    "telco_dum = pd.concat([telco_num, dummies], axis=1)\n",
    "telco_dum.info()  "
   ]
  },
  {
   "cell_type": "code",
   "execution_count": 7,
   "id": "brilliant-lying",
   "metadata": {},
   "outputs": [
    {
     "data": {
      "text/html": [
       "<div>\n",
       "<style scoped>\n",
       "    .dataframe tbody tr th:only-of-type {\n",
       "        vertical-align: middle;\n",
       "    }\n",
       "\n",
       "    .dataframe tbody tr th {\n",
       "        vertical-align: top;\n",
       "    }\n",
       "\n",
       "    .dataframe thead th {\n",
       "        text-align: right;\n",
       "    }\n",
       "</style>\n",
       "<table border=\"1\" class=\"dataframe\">\n",
       "  <thead>\n",
       "    <tr style=\"text-align: right;\">\n",
       "      <th></th>\n",
       "      <th>customerID</th>\n",
       "      <th>SeniorCitizen</th>\n",
       "      <th>tenure</th>\n",
       "      <th>MonthlyCharges</th>\n",
       "      <th>TotalCharges</th>\n",
       "      <th>gender_Male</th>\n",
       "      <th>Partner_Yes</th>\n",
       "      <th>Dependents_Yes</th>\n",
       "      <th>PhoneService_Yes</th>\n",
       "      <th>MultipleLines_Yes</th>\n",
       "      <th>...</th>\n",
       "      <th>TechSupport_Yes</th>\n",
       "      <th>StreamingTV_Yes</th>\n",
       "      <th>StreamingMovies_Yes</th>\n",
       "      <th>Contract_OneYear</th>\n",
       "      <th>Contract_TwoYear</th>\n",
       "      <th>PaperlessBilling_Yes</th>\n",
       "      <th>CreditCard</th>\n",
       "      <th>ElectronicCheck</th>\n",
       "      <th>MailedCheck</th>\n",
       "      <th>Churn_Yes</th>\n",
       "    </tr>\n",
       "  </thead>\n",
       "  <tbody>\n",
       "    <tr>\n",
       "      <th>0</th>\n",
       "      <td>7590-VHVEG</td>\n",
       "      <td>0</td>\n",
       "      <td>1</td>\n",
       "      <td>29.85</td>\n",
       "      <td>29.85</td>\n",
       "      <td>0</td>\n",
       "      <td>1</td>\n",
       "      <td>0</td>\n",
       "      <td>0</td>\n",
       "      <td>0</td>\n",
       "      <td>...</td>\n",
       "      <td>0</td>\n",
       "      <td>0</td>\n",
       "      <td>0</td>\n",
       "      <td>0</td>\n",
       "      <td>0</td>\n",
       "      <td>1</td>\n",
       "      <td>0</td>\n",
       "      <td>1</td>\n",
       "      <td>0</td>\n",
       "      <td>0</td>\n",
       "    </tr>\n",
       "    <tr>\n",
       "      <th>1</th>\n",
       "      <td>5575-GNVDE</td>\n",
       "      <td>0</td>\n",
       "      <td>34</td>\n",
       "      <td>56.95</td>\n",
       "      <td>1889.50</td>\n",
       "      <td>1</td>\n",
       "      <td>0</td>\n",
       "      <td>0</td>\n",
       "      <td>1</td>\n",
       "      <td>0</td>\n",
       "      <td>...</td>\n",
       "      <td>0</td>\n",
       "      <td>0</td>\n",
       "      <td>0</td>\n",
       "      <td>1</td>\n",
       "      <td>0</td>\n",
       "      <td>0</td>\n",
       "      <td>0</td>\n",
       "      <td>0</td>\n",
       "      <td>1</td>\n",
       "      <td>0</td>\n",
       "    </tr>\n",
       "    <tr>\n",
       "      <th>2</th>\n",
       "      <td>3668-QPYBK</td>\n",
       "      <td>0</td>\n",
       "      <td>2</td>\n",
       "      <td>53.85</td>\n",
       "      <td>108.15</td>\n",
       "      <td>1</td>\n",
       "      <td>0</td>\n",
       "      <td>0</td>\n",
       "      <td>1</td>\n",
       "      <td>0</td>\n",
       "      <td>...</td>\n",
       "      <td>0</td>\n",
       "      <td>0</td>\n",
       "      <td>0</td>\n",
       "      <td>0</td>\n",
       "      <td>0</td>\n",
       "      <td>1</td>\n",
       "      <td>0</td>\n",
       "      <td>0</td>\n",
       "      <td>1</td>\n",
       "      <td>1</td>\n",
       "    </tr>\n",
       "    <tr>\n",
       "      <th>3</th>\n",
       "      <td>7795-CFOCW</td>\n",
       "      <td>0</td>\n",
       "      <td>45</td>\n",
       "      <td>42.30</td>\n",
       "      <td>1840.75</td>\n",
       "      <td>1</td>\n",
       "      <td>0</td>\n",
       "      <td>0</td>\n",
       "      <td>0</td>\n",
       "      <td>0</td>\n",
       "      <td>...</td>\n",
       "      <td>1</td>\n",
       "      <td>0</td>\n",
       "      <td>0</td>\n",
       "      <td>1</td>\n",
       "      <td>0</td>\n",
       "      <td>0</td>\n",
       "      <td>0</td>\n",
       "      <td>0</td>\n",
       "      <td>0</td>\n",
       "      <td>0</td>\n",
       "    </tr>\n",
       "    <tr>\n",
       "      <th>4</th>\n",
       "      <td>9237-HQITU</td>\n",
       "      <td>0</td>\n",
       "      <td>2</td>\n",
       "      <td>70.70</td>\n",
       "      <td>151.65</td>\n",
       "      <td>0</td>\n",
       "      <td>0</td>\n",
       "      <td>0</td>\n",
       "      <td>1</td>\n",
       "      <td>0</td>\n",
       "      <td>...</td>\n",
       "      <td>0</td>\n",
       "      <td>0</td>\n",
       "      <td>0</td>\n",
       "      <td>0</td>\n",
       "      <td>0</td>\n",
       "      <td>1</td>\n",
       "      <td>0</td>\n",
       "      <td>1</td>\n",
       "      <td>0</td>\n",
       "      <td>1</td>\n",
       "    </tr>\n",
       "  </tbody>\n",
       "</table>\n",
       "<p>5 rows × 25 columns</p>\n",
       "</div>"
      ],
      "text/plain": [
       "   customerID  SeniorCitizen  tenure  MonthlyCharges  TotalCharges  \\\n",
       "0  7590-VHVEG              0       1           29.85         29.85   \n",
       "1  5575-GNVDE              0      34           56.95       1889.50   \n",
       "2  3668-QPYBK              0       2           53.85        108.15   \n",
       "3  7795-CFOCW              0      45           42.30       1840.75   \n",
       "4  9237-HQITU              0       2           70.70        151.65   \n",
       "\n",
       "   gender_Male  Partner_Yes  Dependents_Yes  PhoneService_Yes  \\\n",
       "0            0            1               0                 0   \n",
       "1            1            0               0                 1   \n",
       "2            1            0               0                 1   \n",
       "3            1            0               0                 0   \n",
       "4            0            0               0                 1   \n",
       "\n",
       "   MultipleLines_Yes  ...  TechSupport_Yes  StreamingTV_Yes  \\\n",
       "0                  0  ...                0                0   \n",
       "1                  0  ...                0                0   \n",
       "2                  0  ...                0                0   \n",
       "3                  0  ...                1                0   \n",
       "4                  0  ...                0                0   \n",
       "\n",
       "   StreamingMovies_Yes  Contract_OneYear  Contract_TwoYear  \\\n",
       "0                    0                 0                 0   \n",
       "1                    0                 1                 0   \n",
       "2                    0                 0                 0   \n",
       "3                    0                 1                 0   \n",
       "4                    0                 0                 0   \n",
       "\n",
       "   PaperlessBilling_Yes  CreditCard  ElectronicCheck  MailedCheck  Churn_Yes  \n",
       "0                     1           0                1            0          0  \n",
       "1                     0           0                0            1          0  \n",
       "2                     1           0                0            1          1  \n",
       "3                     0           0                0            0          0  \n",
       "4                     1           0                1            0          1  \n",
       "\n",
       "[5 rows x 25 columns]"
      ]
     },
     "execution_count": 7,
     "metadata": {},
     "output_type": "execute_result"
    }
   ],
   "source": [
    "telco_dum.head()                                                  "
   ]
  },
  {
   "cell_type": "markdown",
   "id": "broad-facial",
   "metadata": {},
   "source": [
    "## EDA"
   ]
  },
  {
   "cell_type": "code",
   "execution_count": 8,
   "id": "sudden-blackberry",
   "metadata": {},
   "outputs": [
    {
     "data": {
      "text/plain": [
       "0.2653698707936959"
      ]
     },
     "execution_count": 8,
     "metadata": {},
     "output_type": "execute_result"
    }
   ],
   "source": [
    "telco_dum.Churn_Yes.mean()"
   ]
  },
  {
   "cell_type": "code",
   "execution_count": 9,
   "id": "formal-target",
   "metadata": {},
   "outputs": [
    {
     "name": "stdout",
     "output_type": "stream",
     "text": [
      "No plot for customerID (type object)\n"
     ]
    },
    {
     "data": {
      "image/png": "[encoded data removed]",
      "text/plain": [
       "<Figure size 720x2700 with 26 Axes>"
      ]
     },
     "metadata": {
      "needs_background": "light"
     },
     "output_type": "display_data"
    }
   ],
   "source": [
    "rsm.distr_plot(telco_dum)"
   ]
  },
  {
   "cell_type": "markdown",
   "id": "annual-worthy",
   "metadata": {},
   "source": [
    "- ### numeric variables"
   ]
  },
  {
   "cell_type": "code",
   "execution_count": 10,
   "id": "searching-aquatic",
   "metadata": {},
   "outputs": [
    {
     "data": {
      "image/png": "[encoded data removed]",
      "text/plain": [
       "<Figure size 432x288 with 1 Axes>"
      ]
     },
     "metadata": {
      "needs_background": "light"
     },
     "output_type": "display_data"
    }
   ],
   "source": [
    "sns.boxplot(x='Churn_Yes',\n",
    "            y='tenure',\n",
    "            data=telco_dum)\n",
    "plt.show()"
   ]
  },
  {
   "cell_type": "code",
   "execution_count": 11,
   "id": "sixth-vision",
   "metadata": {},
   "outputs": [
    {
     "data": {
      "image/png": "[encoded data removed]",
      "text/plain": [
       "<Figure size 432x288 with 1 Axes>"
      ]
     },
     "metadata": {
      "needs_background": "light"
     },
     "output_type": "display_data"
    }
   ],
   "source": [
    "sns.boxplot(x='Churn_Yes',\n",
    "            y='MonthlyCharges',\n",
    "            data=telco_dum)\n",
    "plt.show()"
   ]
  },
  {
   "cell_type": "code",
   "execution_count": 12,
   "id": "pharmaceutical-shape",
   "metadata": {},
   "outputs": [
    {
     "data": {
      "image/png": "[encoded data removed]",
      "text/plain": [
       "<Figure size 432x288 with 1 Axes>"
      ]
     },
     "metadata": {
      "needs_background": "light"
     },
     "output_type": "display_data"
    }
   ],
   "source": [
    "sns.boxplot(x='Churn_Yes',\n",
    "            y='TotalCharges',\n",
    "            data=telco_dum)\n",
    "plt.show()"
   ]
  },
  {
   "cell_type": "code",
   "execution_count": 13,
   "id": "sustainable-satellite",
   "metadata": {},
   "outputs": [
    {
     "data": {
      "text/html": [
       "<div>\n",
       "<style scoped>\n",
       "    .dataframe tbody tr th:only-of-type {\n",
       "        vertical-align: middle;\n",
       "    }\n",
       "\n",
       "    .dataframe tbody tr th {\n",
       "        vertical-align: top;\n",
       "    }\n",
       "\n",
       "    .dataframe thead th {\n",
       "        text-align: right;\n",
       "    }\n",
       "</style>\n",
       "<table border=\"1\" class=\"dataframe\">\n",
       "  <thead>\n",
       "    <tr style=\"text-align: right;\">\n",
       "      <th></th>\n",
       "      <th>Churn_Yes</th>\n",
       "      <th>tenure</th>\n",
       "      <th>MonthlyCharges</th>\n",
       "      <th>TotalCharges</th>\n",
       "    </tr>\n",
       "  </thead>\n",
       "  <tbody>\n",
       "    <tr>\n",
       "      <th>Churn_Yes</th>\n",
       "      <td>1.000000</td>\n",
       "      <td>-0.352229</td>\n",
       "      <td>0.193356</td>\n",
       "      <td>-0.199428</td>\n",
       "    </tr>\n",
       "    <tr>\n",
       "      <th>tenure</th>\n",
       "      <td>-0.352229</td>\n",
       "      <td>1.000000</td>\n",
       "      <td>0.247900</td>\n",
       "      <td>0.824757</td>\n",
       "    </tr>\n",
       "    <tr>\n",
       "      <th>MonthlyCharges</th>\n",
       "      <td>0.193356</td>\n",
       "      <td>0.247900</td>\n",
       "      <td>1.000000</td>\n",
       "      <td>0.650468</td>\n",
       "    </tr>\n",
       "    <tr>\n",
       "      <th>TotalCharges</th>\n",
       "      <td>-0.199428</td>\n",
       "      <td>0.824757</td>\n",
       "      <td>0.650468</td>\n",
       "      <td>1.000000</td>\n",
       "    </tr>\n",
       "  </tbody>\n",
       "</table>\n",
       "</div>"
      ],
      "text/plain": [
       "                Churn_Yes    tenure  MonthlyCharges  TotalCharges\n",
       "Churn_Yes        1.000000 -0.352229        0.193356     -0.199428\n",
       "tenure          -0.352229  1.000000        0.247900      0.824757\n",
       "MonthlyCharges   0.193356  0.247900        1.000000      0.650468\n",
       "TotalCharges    -0.199428  0.824757        0.650468      1.000000"
      ]
     },
     "execution_count": 13,
     "metadata": {},
     "output_type": "execute_result"
    }
   ],
   "source": [
    "telco_dum[['Churn_Yes','tenure', 'MonthlyCharges', 'TotalCharges']].corr()"
   ]
  },
  {
   "cell_type": "markdown",
   "id": "verified-mission",
   "metadata": {},
   "source": [
    "The distributions of `tenure`, `MonthlyCharges` and `TotalCharges` are significantly different between churn and non-churn group. Besides, `TotalCharges` is highly related with `tenure` and `MonthlyCharges`. It makes sense because TotalCharges should be related to tenure * MonthlyCharges. \n",
    "\n",
    "According to the plots, a customer with higher monthly charges and shorter period tends to switch his/her provider."
   ]
  },
  {
   "cell_type": "markdown",
   "id": "alive-mobile",
   "metadata": {},
   "source": [
    "- ### dummies"
   ]
  },
  {
   "cell_type": "code",
   "execution_count": 14,
   "id": "clinical-hygiene",
   "metadata": {},
   "outputs": [
    {
     "name": "stdout",
     "output_type": "stream",
     "text": [
      "\n",
      "Cross-tabs\n",
      "Variables: Churn_Yes, SeniorCitizen\n",
      "Null hyp: there is no association between Churn_Yes and SeniorCitizen\n",
      "Alt. hyp: there is an association between Churn_Yes and SeniorCitizen\n",
      "\n",
      "Column percentages:\n",
      "\n",
      "SeniorCitizen       0       1   Total\n",
      "Churn_Yes                            \n",
      "0              76.39%  58.32%  73.46%\n",
      "1              23.61%  41.68%  26.54%\n",
      "Total          100.0%  100.0%  100.0%\n",
      "\n",
      "Chi-squared: 160.35 df(1), p.value 0.0\n",
      "\n"
     ]
    },
    {
     "data": {
      "image/png": "[encoded data removed]",
      "text/plain": [
       "<Figure size 432x288 with 1 Axes>"
      ]
     },
     "metadata": {
      "needs_background": "light"
     },
     "output_type": "display_data"
    }
   ],
   "source": [
    "ct = rsm.cross_tabs(telco_dum, 'Churn_Yes', 'SeniorCitizen')\n",
    "ct.summary(output = 'perc_col')\n",
    "ct.plot(output = 'perc_col')"
   ]
  },
  {
   "cell_type": "markdown",
   "id": "nervous-carroll",
   "metadata": {},
   "source": [
    "Senior citizens are more likely to churn. "
   ]
  },
  {
   "cell_type": "code",
   "execution_count": 15,
   "id": "economic-palmer",
   "metadata": {},
   "outputs": [
    {
     "name": "stdout",
     "output_type": "stream",
     "text": [
      "\n",
      "Cross-tabs\n",
      "Variables: Churn_Yes, gender_Male\n",
      "Null hyp: there is no association between Churn_Yes and gender_Male\n",
      "Alt. hyp: there is an association between Churn_Yes and gender_Male\n",
      "\n",
      "Column percentages:\n",
      "\n",
      "gender_Male       0       1   Total\n",
      "Churn_Yes                          \n",
      "0            73.08%  73.84%  73.46%\n",
      "1            26.92%  26.16%  26.54%\n",
      "Total        100.0%  100.0%  100.0%\n",
      "\n",
      "Chi-squared: 0.52 df(1), p.value 0.47\n",
      "\n"
     ]
    },
    {
     "data": {
      "image/png": "[encoded data removed]",
      "text/plain": [
       "<Figure size 432x288 with 1 Axes>"
      ]
     },
     "metadata": {
      "needs_background": "light"
     },
     "output_type": "display_data"
    }
   ],
   "source": [
    "ct = rsm.cross_tabs(telco_dum, 'Churn_Yes', 'gender_Male')\n",
    "ct.summary(output = 'perc_col')\n",
    "ct.plot(output = 'perc_col')"
   ]
  },
  {
   "cell_type": "markdown",
   "id": "stylish-alcohol",
   "metadata": {},
   "source": [
    "It seems that there is no difference in churn rate in two genders."
   ]
  },
  {
   "cell_type": "code",
   "execution_count": 16,
   "id": "public-covering",
   "metadata": {},
   "outputs": [
    {
     "name": "stdout",
     "output_type": "stream",
     "text": [
      "\n",
      "Cross-tabs\n",
      "Variables: Churn_Yes, Partner_Yes\n",
      "Null hyp: there is no association between Churn_Yes and Partner_Yes\n",
      "Alt. hyp: there is an association between Churn_Yes and Partner_Yes\n",
      "\n",
      "Column percentages:\n",
      "\n",
      "Partner_Yes       0       1   Total\n",
      "Churn_Yes                          \n",
      "0            67.04%  80.34%  73.46%\n",
      "1            32.96%  19.66%  26.54%\n",
      "Total        100.0%  100.0%  100.0%\n",
      "\n",
      "Chi-squared: 159.41 df(1), p.value 0.0\n",
      "\n"
     ]
    },
    {
     "data": {
      "image/png": "[encoded data removed]",
      "text/plain": [
       "<Figure size 432x288 with 1 Axes>"
      ]
     },
     "metadata": {
      "needs_background": "light"
     },
     "output_type": "display_data"
    }
   ],
   "source": [
    "ct = rsm.cross_tabs(telco_dum, 'Churn_Yes', 'Partner_Yes')\n",
    "ct.summary(output = 'perc_col')\n",
    "ct.plot(output = 'perc_col')"
   ]
  },
  {
   "cell_type": "code",
   "execution_count": 17,
   "id": "yellow-dictionary",
   "metadata": {},
   "outputs": [
    {
     "name": "stdout",
     "output_type": "stream",
     "text": [
      "\n",
      "Cross-tabs\n",
      "Variables: Churn_Yes, Dependents_Yes\n",
      "Null hyp: there is no association between Churn_Yes and Dependents_Yes\n",
      "Alt. hyp: there is an association between Churn_Yes and Dependents_Yes\n",
      "\n",
      "Column percentages:\n",
      "\n",
      "Dependents_Yes       0       1   Total\n",
      "Churn_Yes                             \n",
      "0               68.72%  84.55%  73.46%\n",
      "1               31.28%  15.45%  26.54%\n",
      "Total           100.0%  100.0%  100.0%\n",
      "\n",
      "Chi-squared: 189.94 df(1), p.value 0.0\n",
      "\n"
     ]
    },
    {
     "data": {
      "image/png": "[encoded data removed]",
      "text/plain": [
       "<Figure size 432x288 with 1 Axes>"
      ]
     },
     "metadata": {
      "needs_background": "light"
     },
     "output_type": "display_data"
    }
   ],
   "source": [
    "ct = rsm.cross_tabs(telco_dum, 'Churn_Yes', 'Dependents_Yes')\n",
    "ct.summary(output = 'perc_col')\n",
    "ct.plot(output = 'perc_col')"
   ]
  },
  {
   "cell_type": "markdown",
   "id": "animal-horse",
   "metadata": {},
   "source": [
    "Customers with partner or dependents have a lower churn rate. "
   ]
  },
  {
   "cell_type": "code",
   "execution_count": 18,
   "id": "dirty-tennessee",
   "metadata": {},
   "outputs": [
    {
     "name": "stdout",
     "output_type": "stream",
     "text": [
      "\n",
      "Cross-tabs\n",
      "Variables: Churn_Yes, PhoneService_Yes\n",
      "Null hyp: there is no association between Churn_Yes and PhoneService_Yes\n",
      "Alt. hyp: there is an association between Churn_Yes and PhoneService_Yes\n",
      "\n",
      "Column percentages:\n",
      "\n",
      "PhoneService_Yes       0       1   Total\n",
      "Churn_Yes                               \n",
      "0                 75.07%  73.29%  73.46%\n",
      "1                 24.93%  26.71%  26.54%\n",
      "Total             100.0%  100.0%  100.0%\n",
      "\n",
      "Chi-squared: 1.0 df(1), p.value 0.32\n",
      "\n"
     ]
    },
    {
     "data": {
      "image/png": "[encoded data removed]",
      "text/plain": [
       "<Figure size 432x288 with 1 Axes>"
      ]
     },
     "metadata": {
      "needs_background": "light"
     },
     "output_type": "display_data"
    }
   ],
   "source": [
    "ct = rsm.cross_tabs(telco_dum, 'Churn_Yes', 'PhoneService_Yes')\n",
    "ct.summary(output = 'perc_col')\n",
    "ct.plot(output = 'perc_col')"
   ]
  },
  {
   "cell_type": "markdown",
   "id": "rural-timeline",
   "metadata": {},
   "source": [
    "The p.value is much higher than 0.1. Using a confidence level of 0.90, we should accept our null hypo that there is no association between Churn_Yes and PhoneService_Yes."
   ]
  },
  {
   "cell_type": "code",
   "execution_count": 19,
   "id": "gross-westminster",
   "metadata": {},
   "outputs": [
    {
     "name": "stdout",
     "output_type": "stream",
     "text": [
      "\n",
      "Cross-tabs\n",
      "Variables: Churn_Yes, InternetService_No\n",
      "Null hyp: there is no association between Churn_Yes and InternetService_No\n",
      "Alt. hyp: there is an association between Churn_Yes and InternetService_No\n",
      "\n",
      "Column percentages:\n",
      "\n",
      "InternetService_No       0       1   Total\n",
      "Churn_Yes                                 \n",
      "0                   68.17%   92.6%  73.46%\n",
      "1                   31.83%    7.4%  26.54%\n",
      "Total               100.0%  100.0%  100.0%\n",
      "\n",
      "Chi-squared: 365.77 df(1), p.value 0.0\n",
      "\n"
     ]
    },
    {
     "data": {
      "image/png": "[encoded data removed]",
      "text/plain": [
       "<Figure size 432x288 with 1 Axes>"
      ]
     },
     "metadata": {
      "needs_background": "light"
     },
     "output_type": "display_data"
    }
   ],
   "source": [
    "ct = rsm.cross_tabs(telco_dum, 'Churn_Yes', 'InternetService_No')\n",
    "ct.summary(output = 'perc_col')\n",
    "ct.plot(output = 'perc_col')"
   ]
  },
  {
   "cell_type": "code",
   "execution_count": 20,
   "id": "advisory-pantyhose",
   "metadata": {},
   "outputs": [
    {
     "name": "stdout",
     "output_type": "stream",
     "text": [
      "\n",
      "Cross-tabs\n",
      "Variables: Churn, InternetService\n",
      "Null hyp: there is no association between Churn and InternetService\n",
      "Alt. hyp: there is an association between Churn and InternetService\n",
      "\n",
      "Column percentages:\n",
      "\n",
      "InternetService     DSL Fiber optic      No   Total\n",
      "Churn                                              \n",
      "No               81.04%      58.11%   92.6%  73.46%\n",
      "Yes              18.96%      41.89%    7.4%  26.54%\n",
      "Total            100.0%      100.0%  100.0%  100.0%\n",
      "\n",
      "Chi-squared: 732.31 df(2), p.value 0.0\n",
      "\n"
     ]
    },
    {
     "data": {
      "image/png": "[encoded data removed]",
      "text/plain": [
       "<Figure size 432x288 with 1 Axes>"
      ]
     },
     "metadata": {
      "needs_background": "light"
     },
     "output_type": "display_data"
    }
   ],
   "source": [
    "ct = rsm.cross_tabs(telco, 'Churn', 'InternetService')\n",
    "ct.summary(output = 'perc_col')\n",
    "ct.plot(output = 'perc_col')"
   ]
  },
  {
   "cell_type": "markdown",
   "id": "falling-request",
   "metadata": {},
   "source": [
    "People with no internet service only has a churn rate of 7.4%. If a customer's internet service is through Fiber Optic, then he/she is very likely to churn (41.89%). "
   ]
  },
  {
   "cell_type": "code",
   "execution_count": 21,
   "id": "finnish-chinese",
   "metadata": {},
   "outputs": [
    {
     "name": "stdout",
     "output_type": "stream",
     "text": [
      "\n",
      "Cross-tabs\n",
      "Variables: Churn, Contract\n",
      "Null hyp: there is no association between Churn and Contract\n",
      "Alt. hyp: there is an association between Churn and Contract\n",
      "\n",
      "Column percentages:\n",
      "\n",
      "Contract Month-to-month One year Two year   Total\n",
      "Churn                                            \n",
      "No               57.29%   88.73%   97.17%  73.46%\n",
      "Yes              42.71%   11.27%    2.83%  26.54%\n",
      "Total            100.0%   100.0%   100.0%  100.0%\n",
      "\n",
      "Chi-squared: 1184.6 df(2), p.value 0.0\n",
      "\n"
     ]
    },
    {
     "data": {
      "image/png": "[encoded data removed]",
      "text/plain": [
       "<Figure size 432x288 with 1 Axes>"
      ]
     },
     "metadata": {
      "needs_background": "light"
     },
     "output_type": "display_data"
    }
   ],
   "source": [
    "ct = rsm.cross_tabs(telco, 'Churn', 'Contract')\n",
    "ct.summary(output = 'perc_col')\n",
    "ct.plot(output = 'perc_col')"
   ]
  },
  {
   "cell_type": "markdown",
   "id": "roman-leadership",
   "metadata": {},
   "source": [
    "Customers with a contract of month-to-month payment have a significantly higher churn rate, which may because that this kind of payment allows more flexibility for customer to change their service provider."
   ]
  },
  {
   "cell_type": "code",
   "execution_count": 22,
   "id": "reserved-birthday",
   "metadata": {},
   "outputs": [
    {
     "name": "stdout",
     "output_type": "stream",
     "text": [
      "\n",
      "Cross-tabs\n",
      "Variables: Churn_Yes, StreamingTV_Yes\n",
      "Null hyp: there is no association between Churn_Yes and StreamingTV_Yes\n",
      "Alt. hyp: there is an association between Churn_Yes and StreamingTV_Yes\n",
      "\n",
      "Column percentages:\n",
      "\n",
      "StreamingTV_Yes       0       1   Total\n",
      "Churn_Yes                              \n",
      "0                75.67%  69.93%  73.46%\n",
      "1                24.33%  30.07%  26.54%\n",
      "Total            100.0%  100.0%  100.0%\n",
      "\n",
      "Chi-squared: 28.16 df(1), p.value 0.0\n",
      "\n"
     ]
    },
    {
     "data": {
      "image/png": "[encoded data removed]",
      "text/plain": [
       "<Figure size 432x288 with 1 Axes>"
      ]
     },
     "metadata": {
      "needs_background": "light"
     },
     "output_type": "display_data"
    }
   ],
   "source": [
    "ct = rsm.cross_tabs(telco_dum, 'Churn_Yes', 'StreamingTV_Yes')\n",
    "ct.summary(output = 'perc_col')\n",
    "ct.plot(output = 'perc_col')"
   ]
  },
  {
   "cell_type": "code",
   "execution_count": 23,
   "id": "several-acting",
   "metadata": {},
   "outputs": [
    {
     "name": "stdout",
     "output_type": "stream",
     "text": [
      "\n",
      "Cross-tabs\n",
      "Variables: Churn_Yes, StreamingMovies_Yes\n",
      "Null hyp: there is no association between Churn_Yes and StreamingMovies_Yes\n",
      "Alt. hyp: there is an association between Churn_Yes and StreamingMovies_Yes\n",
      "\n",
      "Column percentages:\n",
      "\n",
      "StreamingMovies_Yes       0       1   Total\n",
      "Churn_Yes                                  \n",
      "0                    75.62%  70.06%  73.46%\n",
      "1                    24.38%  29.94%  26.54%\n",
      "Total                100.0%  100.0%  100.0%\n",
      "\n",
      "Chi-squared: 26.54 df(1), p.value 0.0\n",
      "\n"
     ]
    },
    {
     "data": {
      "image/png": "[encoded data removed]",
      "text/plain": [
       "<Figure size 432x288 with 1 Axes>"
      ]
     },
     "metadata": {
      "needs_background": "light"
     },
     "output_type": "display_data"
    }
   ],
   "source": [
    "ct = rsm.cross_tabs(telco_dum,'Churn_Yes', 'StreamingMovies_Yes')\n",
    "ct.summary(output = 'perc_col')\n",
    "ct.plot(output = 'perc_col')"
   ]
  },
  {
   "cell_type": "code",
   "execution_count": 24,
   "id": "meaningful-clone",
   "metadata": {},
   "outputs": [
    {
     "name": "stdout",
     "output_type": "stream",
     "text": [
      "\n",
      "Cross-tabs\n",
      "Variables: Churn_Yes, PaperlessBilling_Yes\n",
      "Null hyp: there is no association between Churn_Yes and PaperlessBilling_Yes\n",
      "Alt. hyp: there is an association between Churn_Yes and PaperlessBilling_Yes\n",
      "\n",
      "Column percentages:\n",
      "\n",
      "PaperlessBilling_Yes       0       1   Total\n",
      "Churn_Yes                                   \n",
      "0                     83.67%  66.43%  73.46%\n",
      "1                     16.33%  33.57%  26.54%\n",
      "Total                 100.0%  100.0%  100.0%\n",
      "\n",
      "Chi-squared: 259.16 df(1), p.value 0.0\n",
      "\n"
     ]
    },
    {
     "data": {
      "image/png": "[encoded data removed]",
      "text/plain": [
       "<Figure size 432x288 with 1 Axes>"
      ]
     },
     "metadata": {
      "needs_background": "light"
     },
     "output_type": "display_data"
    }
   ],
   "source": [
    "ct = rsm.cross_tabs(telco_dum, 'Churn_Yes','PaperlessBilling_Yes')\n",
    "ct.summary(output = 'perc_col')\n",
    "ct.plot(output = 'perc_col')"
   ]
  },
  {
   "cell_type": "code",
   "execution_count": 25,
   "id": "boxed-retailer",
   "metadata": {},
   "outputs": [
    {
     "name": "stdout",
     "output_type": "stream",
     "text": [
      "\n",
      "Cross-tabs\n",
      "Variables: Churn, PaymentMethod\n",
      "Null hyp: there is no association between Churn and PaymentMethod\n",
      "Alt. hyp: there is an association between Churn and PaymentMethod\n",
      "\n",
      "Column percentages:\n",
      "\n",
      "PaymentMethod Bank transfer (automatic) Credit card (automatic)  \\\n",
      "Churn                                                             \n",
      "No                               83.29%                  84.76%   \n",
      "Yes                              16.71%                  15.24%   \n",
      "Total                            100.0%                  100.0%   \n",
      "\n",
      "PaymentMethod Electronic check Mailed check   Total  \n",
      "Churn                                                \n",
      "No                      54.71%       80.89%  73.46%  \n",
      "Yes                     45.29%       19.11%  26.54%  \n",
      "Total                   100.0%       100.0%  100.0%  \n",
      "\n",
      "Chi-squared: 648.14 df(3), p.value 0.0\n",
      "\n"
     ]
    },
    {
     "data": {
      "image/png": "[encoded data removed]",
      "text/plain": [
       "<Figure size 432x288 with 1 Axes>"
      ]
     },
     "metadata": {
      "needs_background": "light"
     },
     "output_type": "display_data"
    }
   ],
   "source": [
    "ct = rsm.cross_tabs(telco, 'Churn', 'PaymentMethod')\n",
    "ct.summary(output = 'perc_col')\n",
    "ct.plot(output = 'perc_col')"
   ]
  },
  {
   "cell_type": "markdown",
   "id": "announced-craps",
   "metadata": {},
   "source": [
    "The average churn rate of users who make payment by electronic is significantly higher than others."
   ]
  },
  {
   "cell_type": "code",
   "execution_count": 26,
   "id": "neither-luther",
   "metadata": {},
   "outputs": [
    {
     "name": "stdout",
     "output_type": "stream",
     "text": [
      "\n",
      "Cross-tabs\n",
      "Variables: PaymentMethod, PaperlessBilling\n",
      "Null hyp: there is no association between PaymentMethod and PaperlessBilling\n",
      "Alt. hyp: there is an association between PaymentMethod and PaperlessBilling\n",
      "\n",
      "Column percentages:\n",
      "\n",
      "PaperlessBilling               No     Yes   Total\n",
      "PaymentMethod                                    \n",
      "Bank transfer (automatic)  22.74%  21.36%  21.92%\n",
      "Credit card (automatic)    22.28%  21.15%  21.61%\n",
      "Electronic check           21.69%  41.76%  33.58%\n",
      "Mailed check               33.29%  15.73%  22.89%\n",
      "Total                      100.0%  100.0%  100.0%\n",
      "\n",
      "Chi-squared: 435.69 df(3), p.value 0.0\n",
      "\n"
     ]
    },
    {
     "data": {
      "image/png": "[encoded data removed]",
      "text/plain": [
       "<Figure size 432x288 with 1 Axes>"
      ]
     },
     "metadata": {
      "needs_background": "light"
     },
     "output_type": "display_data"
    }
   ],
   "source": [
    "ct = rsm.cross_tabs(telco, 'PaymentMethod', 'PaperlessBilling')\n",
    "ct.summary(output = 'perc_col')\n",
    "ct.plot(output = 'perc_col')"
   ]
  },
  {
   "cell_type": "markdown",
   "id": "automotive-pregnancy",
   "metadata": {},
   "source": [
    "Paperless billing cusotmers are more likely to pay by electronic check, while paper billing ones tend to pay by mailed check."
   ]
  },
  {
   "cell_type": "markdown",
   "id": "optical-soviet",
   "metadata": {},
   "source": [
    "## Split the data"
   ]
  },
  {
   "cell_type": "code",
   "execution_count": 27,
   "id": "bright-engineer",
   "metadata": {},
   "outputs": [],
   "source": [
    "train, test = train_test_split(telco_dum, test_size=0.2, random_state=42, stratify=telco_dum['Churn_Yes'])\n",
    "train2, val = train_test_split(train, test_size=0.25, random_state=42, stratify=train['Churn_Yes'])"
   ]
  },
  {
   "cell_type": "markdown",
   "id": "colored-algebra",
   "metadata": {},
   "source": [
    "## Logistic regression"
   ]
  },
  {
   "cell_type": "code",
   "execution_count": 28,
   "id": "measured-collapse",
   "metadata": {},
   "outputs": [],
   "source": [
    "idvar = 'customerID'\n",
    "\n",
    "evar = ['tenure', 'TotalCharges', 'Dependents_Yes',\n",
    "       'PhoneService_Yes', 'MultipleLines_Yes', 'InternetService_FiberOptic',\n",
    "       'InternetService_No', 'OnlineBackup_Yes', 'TechSupport_Yes', \n",
    "       'StreamingMovies_Yes', 'Contract_OneYear', 'Contract_TwoYear',\n",
    "       'PaperlessBilling_Yes', 'ElectronicCheck']\n",
    "\n",
    "rvar = 'Churn_Yes'\n",
    "form = \"Churn_Yes ~ \" + \" + \".join(evar)  "
   ]
  },
  {
   "cell_type": "code",
   "execution_count": 29,
   "id": "conservative-method",
   "metadata": {},
   "outputs": [],
   "source": [
    "lr_mod = smf.glm(\n",
    "    formula=form,\n",
    "    family=Binomial(link=logit()),\n",
    "    data=train2\n",
    ")\n",
    "lr = lr_mod.fit()"
   ]
  },
  {
   "cell_type": "code",
   "execution_count": 30,
   "id": "ceramic-lotus",
   "metadata": {},
   "outputs": [
    {
     "data": {
      "text/html": [
       "<table class=\"simpletable\">\n",
       "<caption>Generalized Linear Model Regression Results</caption>\n",
       "<tr>\n",
       "  <th>Dep. Variable:</th>       <td>Churn_Yes</td>    <th>  No. Observations:  </th>  <td>  4225</td> \n",
       "</tr>\n",
       "<tr>\n",
       "  <th>Model:</th>                  <td>GLM</td>       <th>  Df Residuals:      </th>  <td>  4210</td> \n",
       "</tr>\n",
       "<tr>\n",
       "  <th>Model Family:</th>        <td>Binomial</td>     <th>  Df Model:          </th>  <td>    14</td> \n",
       "</tr>\n",
       "<tr>\n",
       "  <th>Link Function:</th>         <td>logit</td>      <th>  Scale:             </th> <td>  1.0000</td>\n",
       "</tr>\n",
       "<tr>\n",
       "  <th>Method:</th>                <td>IRLS</td>       <th>  Log-Likelihood:    </th> <td> -1736.7</td>\n",
       "</tr>\n",
       "<tr>\n",
       "  <th>Date:</th>            <td>Mon, 05 Apr 2021</td> <th>  Deviance:          </th> <td>  3473.3</td>\n",
       "</tr>\n",
       "<tr>\n",
       "  <th>Time:</th>                <td>06:41:05</td>     <th>  Pearson chi2:      </th> <td>4.87e+03</td>\n",
       "</tr>\n",
       "<tr>\n",
       "  <th>No. Iterations:</th>          <td>7</td>        <th>                     </th>     <td> </td>   \n",
       "</tr>\n",
       "<tr>\n",
       "  <th>Covariance Type:</th>     <td>nonrobust</td>    <th>                     </th>     <td> </td>   \n",
       "</tr>\n",
       "</table>\n",
       "<table class=\"simpletable\">\n",
       "<tr>\n",
       "               <td></td>                 <th>coef</th>     <th>std err</th>      <th>z</th>      <th>P>|z|</th>  <th>[0.025</th>    <th>0.975]</th>  \n",
       "</tr>\n",
       "<tr>\n",
       "  <th>Intercept</th>                  <td>    0.0722</td> <td>    0.177</td> <td>    0.408</td> <td> 0.683</td> <td>   -0.275</td> <td>    0.419</td>\n",
       "</tr>\n",
       "<tr>\n",
       "  <th>tenure</th>                     <td>   -0.0572</td> <td>    0.008</td> <td>   -7.403</td> <td> 0.000</td> <td>   -0.072</td> <td>   -0.042</td>\n",
       "</tr>\n",
       "<tr>\n",
       "  <th>TotalCharges</th>               <td>    0.0003</td> <td>  8.7e-05</td> <td>    3.365</td> <td> 0.001</td> <td>    0.000</td> <td>    0.000</td>\n",
       "</tr>\n",
       "<tr>\n",
       "  <th>Dependents_Yes</th>             <td>   -0.2576</td> <td>    0.105</td> <td>   -2.445</td> <td> 0.014</td> <td>   -0.464</td> <td>   -0.051</td>\n",
       "</tr>\n",
       "<tr>\n",
       "  <th>PhoneService_Yes</th>           <td>   -0.7724</td> <td>    0.167</td> <td>   -4.619</td> <td> 0.000</td> <td>   -1.100</td> <td>   -0.445</td>\n",
       "</tr>\n",
       "<tr>\n",
       "  <th>MultipleLines_Yes</th>          <td>    0.3471</td> <td>    0.104</td> <td>    3.345</td> <td> 0.001</td> <td>    0.144</td> <td>    0.551</td>\n",
       "</tr>\n",
       "<tr>\n",
       "  <th>InternetService_FiberOptic</th> <td>    0.9079</td> <td>    0.125</td> <td>    7.255</td> <td> 0.000</td> <td>    0.663</td> <td>    1.153</td>\n",
       "</tr>\n",
       "<tr>\n",
       "  <th>InternetService_No</th>         <td>   -0.6443</td> <td>    0.174</td> <td>   -3.695</td> <td> 0.000</td> <td>   -0.986</td> <td>   -0.303</td>\n",
       "</tr>\n",
       "<tr>\n",
       "  <th>OnlineBackup_Yes</th>           <td>   -0.2029</td> <td>    0.100</td> <td>   -2.037</td> <td> 0.042</td> <td>   -0.398</td> <td>   -0.008</td>\n",
       "</tr>\n",
       "<tr>\n",
       "  <th>TechSupport_Yes</th>            <td>   -0.3936</td> <td>    0.110</td> <td>   -3.574</td> <td> 0.000</td> <td>   -0.609</td> <td>   -0.178</td>\n",
       "</tr>\n",
       "<tr>\n",
       "  <th>StreamingMovies_Yes</th>        <td>    0.2735</td> <td>    0.101</td> <td>    2.697</td> <td> 0.007</td> <td>    0.075</td> <td>    0.472</td>\n",
       "</tr>\n",
       "<tr>\n",
       "  <th>Contract_OneYear</th>           <td>   -0.7641</td> <td>    0.141</td> <td>   -5.416</td> <td> 0.000</td> <td>   -1.041</td> <td>   -0.488</td>\n",
       "</tr>\n",
       "<tr>\n",
       "  <th>Contract_TwoYear</th>           <td>   -1.6373</td> <td>    0.234</td> <td>   -6.986</td> <td> 0.000</td> <td>   -2.097</td> <td>   -1.178</td>\n",
       "</tr>\n",
       "<tr>\n",
       "  <th>PaperlessBilling_Yes</th>       <td>    0.3564</td> <td>    0.096</td> <td>    3.714</td> <td> 0.000</td> <td>    0.168</td> <td>    0.544</td>\n",
       "</tr>\n",
       "<tr>\n",
       "  <th>ElectronicCheck</th>            <td>    0.3837</td> <td>    0.089</td> <td>    4.295</td> <td> 0.000</td> <td>    0.209</td> <td>    0.559</td>\n",
       "</tr>\n",
       "</table>"
      ],
      "text/plain": [
       "<class 'statsmodels.iolib.summary.Summary'>\n",
       "\"\"\"\n",
       "                 Generalized Linear Model Regression Results                  \n",
       "==============================================================================\n",
       "Dep. Variable:              Churn_Yes   No. Observations:                 4225\n",
       "Model:                            GLM   Df Residuals:                     4210\n",
       "Model Family:                Binomial   Df Model:                           14\n",
       "Link Function:                  logit   Scale:                          1.0000\n",
       "Method:                          IRLS   Log-Likelihood:                -1736.7\n",
       "Date:                Mon, 05 Apr 2021   Deviance:                       3473.3\n",
       "Time:                        06:41:05   Pearson chi2:                 4.87e+03\n",
       "No. Iterations:                     7                                         \n",
       "Covariance Type:            nonrobust                                         \n",
       "==============================================================================================\n",
       "                                 coef    std err          z      P>|z|      [0.025      0.975]\n",
       "----------------------------------------------------------------------------------------------\n",
       "Intercept                      0.0722      0.177      0.408      0.683      -0.275       0.419\n",
       "tenure                        -0.0572      0.008     -7.403      0.000      -0.072      -0.042\n",
       "TotalCharges                   0.0003    8.7e-05      3.365      0.001       0.000       0.000\n",
       "Dependents_Yes                -0.2576      0.105     -2.445      0.014      -0.464      -0.051\n",
       "PhoneService_Yes              -0.7724      0.167     -4.619      0.000      -1.100      -0.445\n",
       "MultipleLines_Yes              0.3471      0.104      3.345      0.001       0.144       0.551\n",
       "InternetService_FiberOptic     0.9079      0.125      7.255      0.000       0.663       1.153\n",
       "InternetService_No            -0.6443      0.174     -3.695      0.000      -0.986      -0.303\n",
       "OnlineBackup_Yes              -0.2029      0.100     -2.037      0.042      -0.398      -0.008\n",
       "TechSupport_Yes               -0.3936      0.110     -3.574      0.000      -0.609      -0.178\n",
       "StreamingMovies_Yes            0.2735      0.101      2.697      0.007       0.075       0.472\n",
       "Contract_OneYear              -0.7641      0.141     -5.416      0.000      -1.041      -0.488\n",
       "Contract_TwoYear              -1.6373      0.234     -6.986      0.000      -2.097      -1.178\n",
       "PaperlessBilling_Yes           0.3564      0.096      3.714      0.000       0.168       0.544\n",
       "ElectronicCheck                0.3837      0.089      4.295      0.000       0.209       0.559\n",
       "==============================================================================================\n",
       "\"\"\""
      ]
     },
     "execution_count": 30,
     "metadata": {},
     "output_type": "execute_result"
    }
   ],
   "source": [
    "lr.summary()"
   ]
  },
  {
   "cell_type": "code",
   "execution_count": 31,
   "id": "bridal-russell",
   "metadata": {},
   "outputs": [
    {
     "data": {
      "text/html": [
       "<div>\n",
       "<style scoped>\n",
       "    .dataframe tbody tr th:only-of-type {\n",
       "        vertical-align: middle;\n",
       "    }\n",
       "\n",
       "    .dataframe tbody tr th {\n",
       "        vertical-align: top;\n",
       "    }\n",
       "\n",
       "    .dataframe thead th {\n",
       "        text-align: right;\n",
       "    }\n",
       "</style>\n",
       "<table border=\"1\" class=\"dataframe\">\n",
       "  <thead>\n",
       "    <tr style=\"text-align: right;\">\n",
       "      <th></th>\n",
       "      <th>variable</th>\n",
       "      <th>vif</th>\n",
       "      <th>Rsq</th>\n",
       "    </tr>\n",
       "  </thead>\n",
       "  <tbody>\n",
       "    <tr>\n",
       "      <th>0</th>\n",
       "      <td>TotalCharges</td>\n",
       "      <td>9.145</td>\n",
       "      <td>0.891</td>\n",
       "    </tr>\n",
       "    <tr>\n",
       "      <th>1</th>\n",
       "      <td>tenure</td>\n",
       "      <td>6.795</td>\n",
       "      <td>0.853</td>\n",
       "    </tr>\n",
       "    <tr>\n",
       "      <th>2</th>\n",
       "      <td>Contract_TwoYear</td>\n",
       "      <td>2.602</td>\n",
       "      <td>0.616</td>\n",
       "    </tr>\n",
       "    <tr>\n",
       "      <th>3</th>\n",
       "      <td>InternetService_No</td>\n",
       "      <td>2.409</td>\n",
       "      <td>0.585</td>\n",
       "    </tr>\n",
       "    <tr>\n",
       "      <th>4</th>\n",
       "      <td>InternetService_FiberOptic</td>\n",
       "      <td>2.244</td>\n",
       "      <td>0.554</td>\n",
       "    </tr>\n",
       "    <tr>\n",
       "      <th>5</th>\n",
       "      <td>Contract_OneYear</td>\n",
       "      <td>1.607</td>\n",
       "      <td>0.378</td>\n",
       "    </tr>\n",
       "    <tr>\n",
       "      <th>6</th>\n",
       "      <td>StreamingMovies_Yes</td>\n",
       "      <td>1.603</td>\n",
       "      <td>0.376</td>\n",
       "    </tr>\n",
       "    <tr>\n",
       "      <th>7</th>\n",
       "      <td>TechSupport_Yes</td>\n",
       "      <td>1.530</td>\n",
       "      <td>0.346</td>\n",
       "    </tr>\n",
       "    <tr>\n",
       "      <th>8</th>\n",
       "      <td>OnlineBackup_Yes</td>\n",
       "      <td>1.476</td>\n",
       "      <td>0.322</td>\n",
       "    </tr>\n",
       "    <tr>\n",
       "      <th>9</th>\n",
       "      <td>MultipleLines_Yes</td>\n",
       "      <td>1.454</td>\n",
       "      <td>0.312</td>\n",
       "    </tr>\n",
       "    <tr>\n",
       "      <th>10</th>\n",
       "      <td>PhoneService_Yes</td>\n",
       "      <td>1.427</td>\n",
       "      <td>0.299</td>\n",
       "    </tr>\n",
       "    <tr>\n",
       "      <th>11</th>\n",
       "      <td>ElectronicCheck</td>\n",
       "      <td>1.298</td>\n",
       "      <td>0.229</td>\n",
       "    </tr>\n",
       "    <tr>\n",
       "      <th>12</th>\n",
       "      <td>PaperlessBilling_Yes</td>\n",
       "      <td>1.189</td>\n",
       "      <td>0.159</td>\n",
       "    </tr>\n",
       "    <tr>\n",
       "      <th>13</th>\n",
       "      <td>Dependents_Yes</td>\n",
       "      <td>1.091</td>\n",
       "      <td>0.083</td>\n",
       "    </tr>\n",
       "  </tbody>\n",
       "</table>\n",
       "</div>"
      ],
      "text/plain": [
       "                      variable    vif    Rsq\n",
       "0                 TotalCharges  9.145  0.891\n",
       "1                       tenure  6.795  0.853\n",
       "2             Contract_TwoYear  2.602  0.616\n",
       "3           InternetService_No  2.409  0.585\n",
       "4   InternetService_FiberOptic  2.244  0.554\n",
       "5             Contract_OneYear  1.607  0.378\n",
       "6          StreamingMovies_Yes  1.603  0.376\n",
       "7              TechSupport_Yes  1.530  0.346\n",
       "8             OnlineBackup_Yes  1.476  0.322\n",
       "9            MultipleLines_Yes  1.454  0.312\n",
       "10            PhoneService_Yes  1.427  0.299\n",
       "11             ElectronicCheck  1.298  0.229\n",
       "12        PaperlessBilling_Yes  1.189  0.159\n",
       "13              Dependents_Yes  1.091  0.083"
      ]
     },
     "execution_count": 31,
     "metadata": {},
     "output_type": "execute_result"
    }
   ],
   "source": [
    "rsm.vif(lr_mod)"
   ]
  },
  {
   "cell_type": "markdown",
   "id": "composed-active",
   "metadata": {},
   "source": [
    "####  evaluation"
   ]
  },
  {
   "cell_type": "code",
   "execution_count": 32,
   "id": "clear-escape",
   "metadata": {},
   "outputs": [
    {
     "name": "stdout",
     "output_type": "stream",
     "text": [
      "\n",
      "Pseudo R-squared (McFadden): 0.29\n",
      "Pseudo R-squared (McFadden adjusted): 0.284\n",
      "Log-likelihood: -1736.665, AIC: 3503.331, BIC: 3598.562\n",
      "Chi-squared: 4870.946 df(14), p.value < 0.001 \n",
      "Nr obs: 4,225\n",
      "\n"
     ]
    }
   ],
   "source": [
    "rsm.model_fit(lr)"
   ]
  },
  {
   "cell_type": "markdown",
   "id": "arbitrary-senior",
   "metadata": {},
   "source": [
    "- train dataset"
   ]
  },
  {
   "cell_type": "code",
   "execution_count": 33,
   "id": "outer-asian",
   "metadata": {},
   "outputs": [
    {
     "data": {
      "text/plain": [
       "0.8508123384864397"
      ]
     },
     "execution_count": 33,
     "metadata": {},
     "output_type": "execute_result"
    }
   ],
   "source": [
    "roc_auc_score(train2.Churn_Yes, lr.predict(train2))"
   ]
  },
  {
   "cell_type": "code",
   "execution_count": 34,
   "id": "early-latitude",
   "metadata": {},
   "outputs": [
    {
     "data": {
      "text/plain": [
       "0.8049704142011834"
      ]
     },
     "execution_count": 34,
     "metadata": {},
     "output_type": "execute_result"
    }
   ],
   "source": [
    "# use 0.5 as cutoff\n",
    "accuracy_score(train2.Churn_Yes, lr.predict(train2)>0.5)"
   ]
  },
  {
   "cell_type": "markdown",
   "id": "executed-paris",
   "metadata": {},
   "source": [
    "- validation dataset"
   ]
  },
  {
   "cell_type": "code",
   "execution_count": 35,
   "id": "integrated-arcade",
   "metadata": {},
   "outputs": [
    {
     "data": {
      "text/plain": [
       "0.8345036038130667"
      ]
     },
     "execution_count": 35,
     "metadata": {},
     "output_type": "execute_result"
    }
   ],
   "source": [
    "roc_auc_score(val.Churn_Yes, lr.predict(val))"
   ]
  },
  {
   "cell_type": "code",
   "execution_count": 36,
   "id": "composed-evolution",
   "metadata": {},
   "outputs": [
    {
     "data": {
      "text/plain": [
       "0.8062455642299503"
      ]
     },
     "execution_count": 36,
     "metadata": {},
     "output_type": "execute_result"
    }
   ],
   "source": [
    "# use 0.5 as cutoff\n",
    "accuracy_score(val.Churn_Yes, lr.predict(val)>0.5)"
   ]
  },
  {
   "cell_type": "code",
   "execution_count": 37,
   "id": "celtic-worcester",
   "metadata": {},
   "outputs": [],
   "source": [
    "# retrain the model with both train and validation data\n",
    "lr_mod = smf.glm(\n",
    "    formula=form,\n",
    "    family=Binomial(link=logit()),\n",
    "    data=train\n",
    ")\n",
    "lr = lr_mod.fit()"
   ]
  },
  {
   "cell_type": "markdown",
   "id": "interested-wheel",
   "metadata": {},
   "source": [
    "- test dataset"
   ]
  },
  {
   "cell_type": "code",
   "execution_count": 38,
   "id": "digital-beads",
   "metadata": {},
   "outputs": [],
   "source": [
    "auc_lr = roc_auc_score(test.Churn_Yes, lr.predict(test))"
   ]
  },
  {
   "cell_type": "code",
   "execution_count": 39,
   "id": "sustainable-delay",
   "metadata": {},
   "outputs": [],
   "source": [
    "# use 0.5 as cutoff\n",
    "acc_lr = accuracy_score(test.Churn_Yes, lr.predict(test)>0.5)"
   ]
  },
  {
   "cell_type": "code",
   "execution_count": 40,
   "id": "laughing-innocent",
   "metadata": {},
   "outputs": [
    {
     "name": "stdout",
     "output_type": "stream",
     "text": [
      "The accuracy on test set is 79.35%.\n",
      "The AUC score on test set is 0.84.\n"
     ]
    }
   ],
   "source": [
    "print(f'''The accuracy on test set is {round(100*acc_lr, 2)}%.\n",
    "The AUC score on test set is {round(auc_lr,3)}.''')"
   ]
  },
  {
   "cell_type": "markdown",
   "id": "functioning-armor",
   "metadata": {},
   "source": [
    "## Machine learning"
   ]
  },
  {
   "cell_type": "code",
   "execution_count": 41,
   "id": "british-system",
   "metadata": {},
   "outputs": [],
   "source": [
    "evar_ml = ['SeniorCitizen', 'tenure', 'MonthlyCharges',\n",
    "       'TotalCharges', 'gender_Male', 'Partner_Yes', 'Dependents_Yes',\n",
    "       'PhoneService_Yes', 'MultipleLines_Yes', 'InternetService_FiberOptic',\n",
    "       'InternetService_No', 'OnlineSecurity_Yes', 'OnlineBackup_Yes',\n",
    "       'DeviceProtection_Yes', 'TechSupport_Yes', 'StreamingTV_Yes',\n",
    "       'StreamingMovies_Yes', 'Contract_OneYear', 'Contract_TwoYear',\n",
    "       'PaperlessBilling_Yes', 'CreditCard', 'ElectronicCheck', 'MailedCheck']"
   ]
  },
  {
   "cell_type": "code",
   "execution_count": 42,
   "id": "acceptable-union",
   "metadata": {},
   "outputs": [],
   "source": [
    "X_train = train[evar_ml]\n",
    "y_train = train['Churn_Yes']\n",
    "\n",
    "X_test = test[evar_ml]\n",
    "y_test = test['Churn_Yes']"
   ]
  },
  {
   "cell_type": "markdown",
   "id": "previous-basic",
   "metadata": {},
   "source": [
    "### Random forest"
   ]
  },
  {
   "cell_type": "code",
   "execution_count": 43,
   "id": "eight-foundation",
   "metadata": {},
   "outputs": [
    {
     "name": "stdout",
     "output_type": "stream",
     "text": [
      "Fitting 5 folds for each of 60 candidates, totalling 300 fits\n"
     ]
    },
    {
     "data": {
      "text/plain": [
       "{'max_depth': 4, 'max_features': 4, 'n_estimators': 400}"
      ]
     },
     "execution_count": 43,
     "metadata": {},
     "output_type": "execute_result"
    }
   ],
   "source": [
    "max_feat = sqrt(X_train.shape[1])\n",
    "\n",
    "clf2 = RandomForestClassifier(random_state=1234, n_jobs=4)\n",
    "\n",
    "param_grid = {\n",
    "    \"n_estimators\": list(range(100, 501, 100)),\n",
    "    \"max_features\": range(4, 7),\n",
    "    \"max_depth\": range(1, 5)\n",
    "}\n",
    "\n",
    "scoring = {\"AUC\": \"roc_auc\"}\n",
    "\n",
    "clf2_cv = GridSearchCV(\n",
    "    clf2, param_grid, scoring=scoring, cv=5, n_jobs=4, refit=\"AUC\", verbose=5\n",
    ").fit(X_train, y_train)\n",
    "\n",
    "clf2_cv.best_params_"
   ]
  },
  {
   "cell_type": "code",
   "execution_count": 44,
   "id": "peaceful-nerve",
   "metadata": {},
   "outputs": [
    {
     "data": {
      "text/plain": [
       "0.8442452826152307"
      ]
     },
     "execution_count": 44,
     "metadata": {},
     "output_type": "execute_result"
    }
   ],
   "source": [
    "clf2_cv.best_score_"
   ]
  },
  {
   "cell_type": "code",
   "execution_count": 45,
   "id": "understanding-sword",
   "metadata": {},
   "outputs": [],
   "source": [
    "# to use obb_score, have to retrain the model\n",
    "clf2 = RandomForestClassifier(\n",
    "    n_estimators=clf2_cv.best_params_[\"n_estimators\"],\n",
    "    max_features=clf2_cv.best_params_[\"max_features\"],\n",
    "    max_depth = clf2_cv.best_params_[\"max_depth\"],\n",
    "    oob_score=True,\n",
    "    random_state=1234,\n",
    "    n_jobs = 4\n",
    ").fit(X_train, y_train)\n",
    "\n",
    "pred = clf2.oob_decision_function_"
   ]
  },
  {
   "cell_type": "markdown",
   "id": "tracked-observer",
   "metadata": {},
   "source": [
    "#### evaluation"
   ]
  },
  {
   "cell_type": "markdown",
   "id": "perceived-israel",
   "metadata": {},
   "source": [
    "- train set"
   ]
  },
  {
   "cell_type": "code",
   "execution_count": 46,
   "id": "social-telescope",
   "metadata": {},
   "outputs": [
    {
     "data": {
      "text/plain": [
       "0.8439446621217055"
      ]
     },
     "execution_count": 46,
     "metadata": {},
     "output_type": "execute_result"
    }
   ],
   "source": [
    "roc_auc_score(y_train, pred[:, 1])"
   ]
  },
  {
   "cell_type": "code",
   "execution_count": 47,
   "id": "large-discovery",
   "metadata": {},
   "outputs": [
    {
     "data": {
      "text/plain": [
       "0.791089811856585"
      ]
     },
     "execution_count": 47,
     "metadata": {},
     "output_type": "execute_result"
    }
   ],
   "source": [
    "accuracy_score(y_train, pred[:, 1]>0.5)"
   ]
  },
  {
   "cell_type": "markdown",
   "id": "julian-startup",
   "metadata": {},
   "source": [
    "- test set"
   ]
  },
  {
   "cell_type": "code",
   "execution_count": 48,
   "id": "nasty-library",
   "metadata": {},
   "outputs": [],
   "source": [
    "auc_rf = roc_auc_score(y_test, clf2.predict_proba(X_test)[:, 1])"
   ]
  },
  {
   "cell_type": "code",
   "execution_count": 49,
   "id": "interstate-madonna",
   "metadata": {},
   "outputs": [],
   "source": [
    "acc_rf = accuracy_score(y_test, clf2.predict(X_test))"
   ]
  },
  {
   "cell_type": "code",
   "execution_count": 50,
   "id": "magnetic-editing",
   "metadata": {},
   "outputs": [
    {
     "name": "stdout",
     "output_type": "stream",
     "text": [
      "The accuracy on test set is 78.42%.\n",
      "The AUC score on test set is 0.843.\n"
     ]
    }
   ],
   "source": [
    "print(f'''The accuracy on test set is {round(100*acc_rf, 2)}%.\n",
    "The AUC score on test set is {round(auc_rf,3)}.''')"
   ]
  },
  {
   "cell_type": "code",
   "execution_count": 51,
   "id": "composite-responsibility",
   "metadata": {},
   "outputs": [
    {
     "name": "stdout",
     "output_type": "stream",
     "text": [
      "              precision    recall  f1-score   support\n",
      "\n",
      "           0       0.80      0.94      0.86      1035\n",
      "           1       0.68      0.35      0.46       374\n",
      "\n",
      "    accuracy                           0.78      1409\n",
      "   macro avg       0.74      0.65      0.66      1409\n",
      "weighted avg       0.77      0.78      0.76      1409\n",
      "\n"
     ]
    }
   ],
   "source": [
    "print(classification_report(y_test, clf2.predict(X_test)))"
   ]
  },
  {
   "cell_type": "markdown",
   "id": "frank-nature",
   "metadata": {},
   "source": [
    "### Neural Network"
   ]
  },
  {
   "cell_type": "code",
   "execution_count": 52,
   "id": "excited-crossing",
   "metadata": {},
   "outputs": [],
   "source": [
    "# standardization\n",
    "scaler = StandardScaler()\n",
    "sf = scaler.fit(X_train[['tenure', 'MonthlyCharges', 'TotalCharges']])\n",
    "\n",
    "X_train_std = X_train.copy()\n",
    "X_train_std[['tenure', 'MonthlyCharges', 'TotalCharges']] = sf.transform(X_train_std[['tenure', 'MonthlyCharges', 'TotalCharges']])\n",
    "\n",
    "X_test_std = X_test.copy()\n",
    "X_test_std[['tenure', 'MonthlyCharges', 'TotalCharges']] = sf.transform(X_test_std[['tenure', 'MonthlyCharges', 'TotalCharges']])"
   ]
  },
  {
   "cell_type": "code",
   "execution_count": 53,
   "id": "twelve-chambers",
   "metadata": {},
   "outputs": [
    {
     "name": "stdout",
     "output_type": "stream",
     "text": [
      "Fitting 5 folds for each of 30 candidates, totalling 150 fits\n"
     ]
    },
    {
     "data": {
      "text/plain": [
       "{'alpha': 0.05, 'hidden_layer_sizes': (2, 2)}"
      ]
     },
     "execution_count": 53,
     "metadata": {},
     "output_type": "execute_result"
    }
   ],
   "source": [
    "clf3 = MLPClassifier(activation='tanh', solver='lbfgs', max_iter=1000000, random_state=1234)\n",
    "\n",
    "hls = [(1,), (2,), (2, 2), (3,), (3, 3)]\n",
    "alphas = [1, 0.5, 0.1, 0.05, 0.025, 0.01]\n",
    "\n",
    "param_grid = {\"hidden_layer_sizes\": hls, \"alpha\": alphas}\n",
    "\n",
    "scoring = {\"AUC\": \"roc_auc\"}\n",
    "\n",
    "clf3_cv = GridSearchCV(clf3, \n",
    "                    param_grid,  \n",
    "                    scoring=scoring, \n",
    "                    n_jobs=4, \n",
    "                    refit=\"AUC\", \n",
    "                    cv=5, \n",
    "                    verbose=3).fit(X_train_std, y_train)\n",
    "\n",
    "clf3_cv.best_params_\n"
   ]
  },
  {
   "cell_type": "code",
   "execution_count": 54,
   "id": "becoming-renewal",
   "metadata": {},
   "outputs": [
    {
     "data": {
      "text/plain": [
       "0.8474530429128665"
      ]
     },
     "execution_count": 54,
     "metadata": {},
     "output_type": "execute_result"
    }
   ],
   "source": [
    "clf3_cv.best_score_"
   ]
  },
  {
   "cell_type": "markdown",
   "id": "imperial-mouse",
   "metadata": {},
   "source": [
    "#### evaluation"
   ]
  },
  {
   "cell_type": "markdown",
   "id": "patent-album",
   "metadata": {},
   "source": [
    "- train set"
   ]
  },
  {
   "cell_type": "code",
   "execution_count": 55,
   "id": "economic-radical",
   "metadata": {},
   "outputs": [
    {
     "data": {
      "text/plain": [
       "0.8577257201867221"
      ]
     },
     "execution_count": 55,
     "metadata": {},
     "output_type": "execute_result"
    }
   ],
   "source": [
    "roc_auc_score(y_train, clf3_cv.predict_proba(X_train_std)[:, 1])"
   ]
  },
  {
   "cell_type": "code",
   "execution_count": 56,
   "id": "defensive-torture",
   "metadata": {},
   "outputs": [
    {
     "data": {
      "text/plain": [
       "0.8141640042598509"
      ]
     },
     "execution_count": 56,
     "metadata": {},
     "output_type": "execute_result"
    }
   ],
   "source": [
    "accuracy_score(y_train, clf3_cv.predict(X_train_std))"
   ]
  },
  {
   "cell_type": "markdown",
   "id": "heard-forum",
   "metadata": {},
   "source": [
    "- test set"
   ]
  },
  {
   "cell_type": "code",
   "execution_count": 57,
   "id": "smart-impression",
   "metadata": {},
   "outputs": [],
   "source": [
    "auc_nn = roc_auc_score(y_test, clf3_cv.predict_proba(X_test_std)[:, 1])"
   ]
  },
  {
   "cell_type": "code",
   "execution_count": 58,
   "id": "recognized-chain",
   "metadata": {},
   "outputs": [],
   "source": [
    "acc_nn = accuracy_score(y_test, clf3_cv.predict(X_test_std))"
   ]
  },
  {
   "cell_type": "code",
   "execution_count": 59,
   "id": "resistant-receptor",
   "metadata": {},
   "outputs": [
    {
     "name": "stdout",
     "output_type": "stream",
     "text": [
      "The accuracy on test set is 79.63%.\n",
      "The AUC score on test set is 0.843.\n"
     ]
    }
   ],
   "source": [
    "print(f'''The accuracy on test set is {round(100*acc_nn, 2)}%.\n",
    "The AUC score on test set is {round(auc_nn,3)}.''')"
   ]
  },
  {
   "cell_type": "code",
   "execution_count": 60,
   "id": "straight-elite",
   "metadata": {},
   "outputs": [
    {
     "name": "stdout",
     "output_type": "stream",
     "text": [
      "              precision    recall  f1-score   support\n",
      "\n",
      "           0       0.83      0.90      0.87      1035\n",
      "           1       0.65      0.50      0.56       374\n",
      "\n",
      "    accuracy                           0.80      1409\n",
      "   macro avg       0.74      0.70      0.72      1409\n",
      "weighted avg       0.78      0.80      0.79      1409\n",
      "\n"
     ]
    }
   ],
   "source": [
    "print(classification_report(y_test, clf3_cv.predict(X_test_std)))"
   ]
  },
  {
   "cell_type": "markdown",
   "id": "outer-belfast",
   "metadata": {},
   "source": [
    "## Comparison\n",
    "\n",
    "- Metrics"
   ]
  },
  {
   "cell_type": "code",
   "execution_count": 61,
   "id": "collective-parent",
   "metadata": {},
   "outputs": [
    {
     "data": {
      "text/html": [
       "<div>\n",
       "<style scoped>\n",
       "    .dataframe tbody tr th:only-of-type {\n",
       "        vertical-align: middle;\n",
       "    }\n",
       "\n",
       "    .dataframe tbody tr th {\n",
       "        vertical-align: top;\n",
       "    }\n",
       "\n",
       "    .dataframe thead th {\n",
       "        text-align: right;\n",
       "    }\n",
       "</style>\n",
       "<table border=\"1\" class=\"dataframe\">\n",
       "  <thead>\n",
       "    <tr style=\"text-align: right;\">\n",
       "      <th></th>\n",
       "      <th>Model</th>\n",
       "      <th>AUC</th>\n",
       "      <th>Accuracy</th>\n",
       "    </tr>\n",
       "  </thead>\n",
       "  <tbody>\n",
       "    <tr>\n",
       "      <th>1</th>\n",
       "      <td>random forest</td>\n",
       "      <td>0.843405</td>\n",
       "      <td>0.784244</td>\n",
       "    </tr>\n",
       "    <tr>\n",
       "      <th>2</th>\n",
       "      <td>nerual network</td>\n",
       "      <td>0.842905</td>\n",
       "      <td>0.796309</td>\n",
       "    </tr>\n",
       "    <tr>\n",
       "      <th>0</th>\n",
       "      <td>logistic regression</td>\n",
       "      <td>0.840404</td>\n",
       "      <td>0.793471</td>\n",
       "    </tr>\n",
       "  </tbody>\n",
       "</table>\n",
       "</div>"
      ],
      "text/plain": [
       "                 Model       AUC  Accuracy\n",
       "1        random forest  0.843405  0.784244\n",
       "2       nerual network  0.842905  0.796309\n",
       "0  logistic regression  0.840404  0.793471"
      ]
     },
     "execution_count": 61,
     "metadata": {},
     "output_type": "execute_result"
    }
   ],
   "source": [
    "performance = pd.DataFrame({\n",
    "    'Model': ['logistic regression', 'random forest', 'nerual network'],\n",
    "    'AUC' : [auc_lr, auc_rf, auc_nn],\n",
    "    'Accuracy': [acc_lr, acc_rf, acc_nn]\n",
    "})\n",
    "\n",
    "performance.sort_values('AUC', ascending=False)"
   ]
  },
  {
   "cell_type": "markdown",
   "id": "finnish-italy",
   "metadata": {},
   "source": [
    "- Confusion matrices"
   ]
  },
  {
   "cell_type": "code",
   "execution_count": 62,
   "id": "brazilian-photographer",
   "metadata": {},
   "outputs": [
    {
     "data": {
      "text/plain": [
       "array([[0.64939674, 0.08516678],\n",
       "       [0.12136267, 0.14407381]])"
      ]
     },
     "execution_count": 62,
     "metadata": {},
     "output_type": "execute_result"
    }
   ],
   "source": [
    "# logistic regression\n",
    "confusion_matrix(y_test, lr.predict(X_test)>0.5, normalize='all')"
   ]
  },
  {
   "cell_type": "code",
   "execution_count": 63,
   "id": "independent-maple",
   "metadata": {},
   "outputs": [
    {
     "data": {
      "text/plain": [
       "array([[0.69056068, 0.04400284],\n",
       "       [0.17175302, 0.09368346]])"
      ]
     },
     "execution_count": 63,
     "metadata": {},
     "output_type": "execute_result"
    }
   ],
   "source": [
    "# random forest\n",
    "confusion_matrix(y_test, clf2.predict(X_test), normalize='all')"
   ]
  },
  {
   "cell_type": "code",
   "execution_count": 64,
   "id": "banned-canyon",
   "metadata": {},
   "outputs": [
    {
     "data": {
      "text/plain": [
       "array([[0.66430092, 0.0702626 ],\n",
       "       [0.13342796, 0.13200852]])"
      ]
     },
     "execution_count": 64,
     "metadata": {},
     "output_type": "execute_result"
    }
   ],
   "source": [
    "# neural network\n",
    "confusion_matrix(y_test, clf3_cv.predict(X_test_std), normalize='all')"
   ]
  },
  {
   "cell_type": "markdown",
   "id": "appreciated-karen",
   "metadata": {},
   "source": [
    "- Recall score"
   ]
  },
  {
   "cell_type": "code",
   "execution_count": 65,
   "id": "israeli-buffer",
   "metadata": {},
   "outputs": [
    {
     "data": {
      "text/plain": [
       "0.543"
      ]
     },
     "execution_count": 65,
     "metadata": {},
     "output_type": "execute_result"
    }
   ],
   "source": [
    "# logistic regression\n",
    "recall_score(test.Churn_Yes, lr.predict(test)>0.5).round(3)"
   ]
  },
  {
   "cell_type": "code",
   "execution_count": 66,
   "id": "incorporate-titanium",
   "metadata": {},
   "outputs": [
    {
     "data": {
      "text/plain": [
       "0.353"
      ]
     },
     "execution_count": 66,
     "metadata": {},
     "output_type": "execute_result"
    }
   ],
   "source": [
    "# random forest\n",
    "recall_score(y_test, clf2.predict(X_test)).round(3)"
   ]
  },
  {
   "cell_type": "code",
   "execution_count": 67,
   "id": "dimensional-million",
   "metadata": {},
   "outputs": [
    {
     "data": {
      "text/plain": [
       "0.497"
      ]
     },
     "execution_count": 67,
     "metadata": {},
     "output_type": "execute_result"
    }
   ],
   "source": [
    "# neural network\n",
    "recall_score(y_test, clf3_cv.predict(X_test_std)).round(3)"
   ]
  },
  {
   "cell_type": "markdown",
   "id": "international-japanese",
   "metadata": {},
   "source": [
    "## Conclusion"
   ]
  },
  {
   "cell_type": "markdown",
   "id": "indirect-aspect",
   "metadata": {},
   "source": [
    "The **AUC score** is chosen as the criteria, since it can represent the overall predictive performance with any cut-off churn rate, which is usually lower than 0.5 in order that the company can be proactive in churn management. According to the AUC scores of the three models, **random forest model** is the best choice. Its AUC score, accuracy and recall score are 0.8434, 78.42% and 0.353 respectively.\n",
    "\n",
    "However, if the churn management cost per customer is much lower than the risk lost per customer, the model should be able to recognize the real churn customers as many as possible. Therefore, **recall score** should be chosen as the criteria. In this situation, **logistic regression model** should be used instead. Its AUC score, accuracy and recall score are 0.8404, 79.35% and 0.543 respectively. "
   ]
  },
  {
   "cell_type": "markdown",
   "id": "guided-battle",
   "metadata": {},
   "source": [
    "#### Notes: \n",
    "\n",
    "- All predictive performance is evaluated on the **test set**.\n",
    "\n",
    "- The average churn rate in this data set is 26.5, indicating the data set is **mildly** imbalanced. However, in this code, oversampling by SMOTE doesn't improve the AUC score of each model significantly. Thus, to reserve the original proportion of the data, oversampling is NOT used."
   ]
  }
 ],
 "metadata": {
  "kernelspec": {
   "display_name": "Python 3",
   "language": "python",
   "name": "python3"
  },
  "language_info": {
   "codemirror_mode": {
    "name": "ipython",
    "version": 3
   },
   "file_extension": ".py",
   "mimetype": "text/x-python",
   "name": "python",
   "nbconvert_exporter": "python",
   "pygments_lexer": "ipython3",
   "version": "3.8.5"
  }
 },
 "nbformat": 4,
 "nbformat_minor": 5
}
